{
 "cells": [
  {
   "cell_type": "markdown",
   "metadata": {
    "id": "hD7G4MPmVGA3"
   },
   "source": [
    "# Appetizer Task: Hand-Written Digit Classification with Least-Squares"
   ]
  },
  {
   "cell_type": "code",
   "execution_count": null,
   "metadata": {
    "executionInfo": {
     "elapsed": 90,
     "status": "ok",
     "timestamp": 1667848928821,
     "user": {
      "displayName": "Xu Tian",
      "userId": "11404021466247027293"
     },
     "user_tz": 300
    },
    "id": "IxpuVZsOVGA4"
   },
   "outputs": [],
   "source": [
    "###Do not change the code here\n",
    "from matplotlib.pyplot import plot\n",
    "import matplotlib.pyplot as plt\n",
    "import numpy as np\n"
   ]
  },
  {
   "cell_type": "markdown",
   "metadata": {
    "id": "oz8O8bIoVGA5"
   },
   "source": [
    "## Appetizer Task\n",
    "Please read the Appetizer section in the pdf file for the project requirement."
   ]
  },
  {
   "cell_type": "code",
   "execution_count": null,
   "metadata": {
    "executionInfo": {
     "elapsed": 3,
     "status": "ok",
     "timestamp": 1667848931843,
     "user": {
      "displayName": "Xu Tian",
      "userId": "11404021466247027293"
     },
     "user_tz": 300
    },
    "id": "99vwOtkfVGA5"
   },
   "outputs": [],
   "source": [
    "###Do not change the code here\n",
    "train_data_path = \"MNIST_Sub/\" + \"train_data.txt\"\n",
    "train_labels_path = \"MNIST_Sub/\" + \"train_labels.txt\"\n",
    "test_data_path = \"MNIST_Sub/\" + \"test_data.txt\"\n",
    "test_labels_path = \"MNIST_Sub/\" + \"test_labels.txt\"\n",
    "\n",
    "\n",
    "### the dataset class is provided ###\n",
    "class Dataset:\n",
    "    def __init__(self, train_data_path, train_labels_path, test_data_path, test_labels_path):\n",
    "        self.train_data_path = train_data_path\n",
    "        self.train_labels_path = train_labels_path\n",
    "        self.test_data_path = test_data_path\n",
    "        self.test_labels_path = test_labels_path\n",
    "        \n",
    "        self.train_data = []\n",
    "        self.train_labels = []\n",
    "        self.test_data = []\n",
    "        self.test_labels = []\n",
    "\n",
    "    def dataloader(self,):\n",
    "            '''\n",
    "            The shape of train data should be (n_samples,28^2)\n",
    "            '''\n",
    "            with open(self.train_data_path, \"r\") as f:\n",
    "                for line in f:\n",
    "                    self.train_data.append(np.array(line.strip().split()).astype(np.float64)/255.0)\n",
    "                self.train_data = np.array(self.train_data)\n",
    "\n",
    "            with open(self.train_labels_path, \"r\") as f:\n",
    "                for line in f:\n",
    "                    self.train_labels.append(int(line.strip()))\n",
    "                self.train_labels = np.array(self.train_labels)\n",
    "                \n",
    "\n",
    "            with open(self.test_data_path, \"r\") as f:\n",
    "                for line in f:\n",
    "                    self.test_data.append(np.array(line.strip().split()).astype(np.float64)/255.0)\n",
    "                self.test_data = np.array(self.test_data)\n",
    "                \n",
    "\n",
    "            with open(self.test_labels_path, \"r\") as f:\n",
    "                for line in f:\n",
    "                    self.test_labels.append(int(line.strip()))\n",
    "                self.test_labels = np.array(self.test_labels)\n",
    "                \n",
    "                \n"
   ]
  },
  {
   "cell_type": "code",
   "execution_count": null,
   "metadata": {
    "colab": {
     "base_uri": "https://localhost:8080/",
     "height": 791
    },
    "executionInfo": {
     "elapsed": 124,
     "status": "error",
     "timestamp": 1667849015751,
     "user": {
      "displayName": "Xu Tian",
      "userId": "11404021466247027293"
     },
     "user_tz": 300
    },
    "id": "OWo4hN3viB71",
    "outputId": "eb883fd0-d030-402f-f8d9-0f7cea0961b7"
   },
   "outputs": [],
   "source": [
    "###Do not change the code###\n",
    "###load data###\n",
    "data = Dataset(train_data_path, train_labels_path, test_data_path, test_labels_path)\n",
    "data.dataloader()\n",
    "x_train, y_train, x_test, y_test = data.train_data, data.train_labels, data.test_data, data.test_labels\n",
    "print(\"# of training samples:\", x_train.shape[0])\n",
    "print(\"# of testing samples:\", x_test.shape[0])"
   ]
  },
  {
   "cell_type": "code",
   "execution_count": null,
   "metadata": {},
   "outputs": [],
   "source": [
    "### Do not change the code ###\n",
    "### visualize the samples \n",
    "\n",
    "def visualization(x, y_true, y_pred = None, rows = 2, cols = 5, split = 'train'):\n",
    "    num_row = rows\n",
    "    num_col = cols\n",
    "    images = np.reshape(x, (-1, 28, 28))\n",
    "    labels_true = y_true\n",
    "    labels_pred = y_pred\n",
    "    \n",
    "    # plot images\n",
    "    fig, axes = plt.subplots(num_row, num_col, figsize=(1.5*num_col,2*num_row))\n",
    "    for i in range(num_row * num_col):\n",
    "        ax = axes[i//num_col, i%num_col]\n",
    "        ax.imshow(images[i], cmap='gray')\n",
    "        if split == 'train':\n",
    "            ax.set_title('Label: {}'.format(labels_true[i]))\n",
    "        elif split == 'test':\n",
    "            col = 'green'\n",
    "            if labels_pred[i] != labels_true[i]:\n",
    "                col = 'red'\n",
    "            ax.set_title('Label: {} vs {}'.format(labels_true[i], labels_pred[i]), color = col)\n",
    "            \n",
    "    plt.tight_layout()\n",
    "    plt.show()\n",
    "    \n",
    "visualization(x_train, y_train, rows = 2, cols = 10)"
   ]
  },
  {
   "cell_type": "code",
   "execution_count": null,
   "metadata": {
    "id": "sleRDTXfVGA6"
   },
   "outputs": [],
   "source": [
    "###TODO: implement your functions, don't change input \n",
    "\n",
    "#add a bias column to x \n",
    "def add_bias_column(x):\n",
    "    bias = np.ones([x.shape[0], 1])\n",
    "    return np.concatenate((x,bias), 1)\n",
    "\n",
    "###the main function for solving theta, refer to the project requirement\n",
    "def classifier(x, y, classes=10):\n",
    "    #x: train_data\n",
    "    #y: train_labels\n",
    "    #classes: # of classes\n",
    "   \n",
    "    x = add_bias_column(x)\n",
    "    theta = np.zeros([x.shape[1], classes])\n",
    "    \n",
    "    ### your code starts here ###\n",
    "    \n",
    "    ### your code ends here ###\n",
    "    \n",
    "    return theta\n",
    "    \n",
    "#evaluate your solution on test data\n",
    "def evaluate(x, y, theta):\n",
    "    x = add_bias_column(x)\n",
    "    y_pred = np.matmul(x, theta)\n",
    "    y_pred = np.argmax(y_pred, 1)\n",
    "    accuracy = (y_pred == y).mean()\n",
    "    \n",
    "    return accuracy\n",
    "\n",
    "def get_pred(x, y, theta):\n",
    "    x = add_bias_column(x)\n",
    "    y_pred = np.matmul(x, theta)\n",
    "    y_pred = np.argmax(y_pred, 1)\n",
    "    \n",
    "    return y_pred"
   ]
  },
  {
   "cell_type": "code",
   "execution_count": null,
   "metadata": {},
   "outputs": [],
   "source": [
    "###Run your code and vialize the prediction result\n",
    " \n",
    "theta = classifier(x_train, y_train) ###solve Theta\n",
    "pred = get_pred(x_test, y_test, theta)\n",
    "\n",
    "### !!! this line will take a while.\n",
    "visualization(x_test, y_test, pred, int(y_test.shape[0] / 10), 10, split='test')\n",
    "# the right prediction will have green label while wrong prediction will have red label\n",
    "\n",
    "# if your computer takes too long, please use the following line instead. it'll show a subset of images and their predictions\n",
    "# visualization(x_test, y_test, pred, 5, 10, split='test')"
   ]
  },
  {
   "cell_type": "code",
   "execution_count": null,
   "metadata": {
    "colab": {
     "base_uri": "https://localhost:8080/"
    },
    "executionInfo": {
     "elapsed": 171,
     "status": "ok",
     "timestamp": 1667592694229,
     "user": {
      "displayName": "Xu Tian",
      "userId": "11404021466247027293"
     },
     "user_tz": 240
    },
    "id": "HNTHx5aDVGA7",
    "outputId": "8b90b1d2-018a-4d14-d4b3-b3349a983b96"
   },
   "outputs": [],
   "source": [
    "### print out the test accuracy\n",
    "training_accuracy=evaluate(x_train, y_train, theta)\n",
    "print(\"Training accuracy is:\", training_accuracy)\n",
    "\n",
    "testing_accuracy = evaluate(x_test, y_test, theta) ###test \n",
    "print(\"Testing accuracy is:\", testing_accuracy)\n"
   ]
  },
  {
   "cell_type": "code",
   "execution_count": null,
   "metadata": {},
   "outputs": [],
   "source": []
  },
  {
   "cell_type": "code",
   "execution_count": null,
   "metadata": {},
   "outputs": [],
   "source": []
  }
 ],
 "metadata": {
  "colab": {
   "collapsed_sections": [],
   "provenance": []
  },
  "kernelspec": {
   "display_name": "Python 3 (ipykernel)",
   "language": "python",
   "name": "python3"
  },
  "language_info": {
   "codemirror_mode": {
    "name": "ipython",
    "version": 3
   },
   "file_extension": ".py",
   "mimetype": "text/x-python",
   "name": "python",
   "nbconvert_exporter": "python",
   "pygments_lexer": "ipython3",
   "version": "3.8.5"
  }
 },
 "nbformat": 4,
 "nbformat_minor": 1
}
